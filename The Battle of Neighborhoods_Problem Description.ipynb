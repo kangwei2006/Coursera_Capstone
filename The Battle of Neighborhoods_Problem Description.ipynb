{
 "cells": [
  {
   "cell_type": "markdown",
   "metadata": {},
   "source": [
    "# Capstone-Project: The-Battle-of-Neighborhoods"
   ]
  },
  {
   "cell_type": "markdown",
   "metadata": {},
   "source": [
    "## The Best Neighborhoods to live in Manhattan\n",
    "### Problem Description\n",
    "\n",
    "#### New York City is the most populous city in the United States. As a center for media, culture, food, fashion, art, research, finance, and trade, New York is one of the most attractive cities in the world. Manhattan, which serves as the economic center and culture identifier of the New York metropolitan area, is the most populated of the five boroughs of New York City. In this project, I will provide an analysis of neighborhoods in Manhattan to people who are moving to this area.  \n",
    "\n",
    "#### Where to live is a big decision to make when you move to a new city. You will need to decide which neighborhood is your best match based on your lifestyle and interests. Some people may want to live in a walking distance to a decent grocery store or a park, some might want to be surrounded by different choices of restaurants, and some might be interested in having a yoga studio nearby, etc. This project will explore the neighborhoods in Manhattan and help to figure out the best fit for you. \n"
   ]
  }
 ],
 "metadata": {
  "kernelspec": {
   "display_name": "Python 3",
   "language": "python",
   "name": "python3"
  },
  "language_info": {
   "codemirror_mode": {
    "name": "ipython",
    "version": 3
   },
   "file_extension": ".py",
   "mimetype": "text/x-python",
   "name": "python",
   "nbconvert_exporter": "python",
   "pygments_lexer": "ipython3",
   "version": "3.8.5"
  }
 },
 "nbformat": 4,
 "nbformat_minor": 4
}
