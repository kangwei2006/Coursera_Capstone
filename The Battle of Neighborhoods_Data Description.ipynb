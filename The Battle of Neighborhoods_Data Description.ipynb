{
 "cells": [
  {
   "cell_type": "markdown",
   "metadata": {},
   "source": [
    "# Capstone-Project: The-Battle-of-Neighborhoods"
   ]
  },
  {
   "cell_type": "markdown",
   "metadata": {},
   "source": [
    "## The Best Neighborhoods to live in Manhattan\n",
    "### Data Description\n",
    "\n",
    "In this project, I will use three datasets from the following sources to explore the neighborhoods in Manhattan.\n",
    "\n",
    "1). New York city neighborhoods coordinates data from https://cf-courses-data.s3.us.cloud-object-storage.appdomain.cloud/IBMDeveloperSkillsNetwork-DS0701EN-SkillsNetwork/labs/newyork_data.json\n",
    "\n",
    "2). Average Rent in Manhattan neighborhoods data from https://www.rentcafe.com/average-rent-market-trends/us/ny/manhattan/\n",
    "\n",
    "3). Venues for each neighborhood obtained from Foursquare API\n",
    "\n",
    "The first data sources provide location (latitude and longitude) information for all the neighborboods from five boroughs in New York City. I extract coordinates information of 40 neighborhoods in Manhattan, which will be used to visualize the location of the neighborhoods in a Manhattan map and to gather venues information from Foursquare. \n",
    "\n",
    "The second data source provides average monthly rent data in U.S. dollars for each of the 40 neighborhoods in Manhattan, which could be used as a reference for budget planning assuming that most people moving to Manhattan will start off renting a place. For example, I could get information that Little Italy and Tribeca have the highest average rent at 5228 dollars among the 40 neighborhoods, while Marble Hill has the lowest rent at 1658 dollars, from this dataset. \n",
    "\n",
    "Using latitudes and longitudes of the neighborhoods from the first data source as input for the Foursquare API, I will explore the neighborhoods by analyzing the venues of people's interests. I will select and re-groupd the venues into five major types of venues of interest and make recommendations based on these venues. For example, the origional venue categories \"grocery stores\" and \"supermarkets\" are re-classified as a new venue type \"grocery\", indicating places for grocery shopping in the neighborhoods.\n"
   ]
  },
  {
   "cell_type": "code",
   "execution_count": null,
   "metadata": {},
   "outputs": [],
   "source": []
  }
 ],
 "metadata": {
  "kernelspec": {
   "display_name": "Python 3",
   "language": "python",
   "name": "python3"
  },
  "language_info": {
   "codemirror_mode": {
    "name": "ipython",
    "version": 3
   },
   "file_extension": ".py",
   "mimetype": "text/x-python",
   "name": "python",
   "nbconvert_exporter": "python",
   "pygments_lexer": "ipython3",
   "version": "3.8.5"
  }
 },
 "nbformat": 4,
 "nbformat_minor": 4
}
